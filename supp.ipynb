{
 "cells": [
  {
   "attachments": {},
   "cell_type": "markdown",
   "metadata": {},
   "source": [
    "# Verifying FedAvg\n",
    "We first consider the following example to verify that FedAvg works on the example when the stochastic gradients violate relaxed growth condition but satisfy ABC condition. We consider $n=2$ case, where\n",
    "$$\n",
    "f_1(x) = f_2(x) = f(x) = \\begin{cases}\n",
    "\\frac{x^2}{2}, & |x|< 1, \\\\\n",
    "|x| - \\frac{1}{2}, & \\text{Otherwise}\n",
    "\\end{cases},\n",
    "$$\n",
    "the stochastic gradient is set as\n",
    "$$\n",
    "g_1(x) = g_2(x) = g(x) = \\begin{cases}\n",
    "\\nabla f(x) + \\sqrt{|x|}, &\\text{with probability 1/2}\\\\\n",
    "\\nabla f(x) - \\sqrt{|x|}, &\\text{with probability 1/2}\n",
    "\\end{cases}\n",
    "$$\n"
   ]
  },
  {
   "attachments": {},
   "cell_type": "markdown",
   "metadata": {},
   "source": [
    "![Figure 1](ex1.png)"
   ]
  },
  {
   "attachments": {},
   "cell_type": "markdown",
   "metadata": {},
   "source": [
    "# BGD can be invariant while the performance of FedAvg varies\n",
    "\n",
    "We consider \n",
    "$$\n",
    "f_1(x) = x^2, \\ f_2(x) = \\begin{cases}\n",
    "\\frac{(x-d)^2}{2}, & |x-d|< 1, \\\\\n",
    "|x-d| - \\frac{1}{2}, & \\text{Otherwise}\n",
    "\\end{cases},\n",
    "$$\n",
    "\n",
    "\n",
    "where larger $|d|$ indicates larger $f^* - \\frac{1}{2}(f_1^* + f_2^*)$.  To obtain a tight estimate of $(\\zeta^2,\\psi^2)$ in the BGD assumption, we consider the subproblem\n",
    "$$\n",
    "\\min_{\\zeta,\\psi>0}\\zeta^2+\\psi^2,\\text{ s.t. }\\frac{1}{2}\\sum_{i=1}^2\\Vert \\nabla f_i(x)-\\nabla f(x)\\Vert^2\\leq \\zeta^2 + \\psi^2\\Vert\\nabla f(x)\\Vert^2, \\forall x\\in\\mathbb{R}.\n",
    "$$\n",
    "It suffices to consider three cases:\n",
    "\n",
    "* $x-d>1$, the constraint becomes\n",
    "  $$\n",
    "  \\frac{1}{2}(1 + 4x^2)\\leq \\zeta^2 + \\psi^2(x+\\frac{1}{2})^2.\n",
    "  $$\n",
    "\n",
    "* $x-d<-1$, the constrain becomes\n",
    "  $$\n",
    "  \\frac{1}{2}(1+4x^2)\\leq \\zeta^2+\\psi^2(x + \\frac{-1}{2})^2.\n",
    "  $$\n",
    "\n",
    "* $|x-d|\\leq 1$, the constraint becomes\n",
    "  $$\n",
    "  \\frac{1}{2}((x-d)^2+4x^2)\\leq \\zeta^2+\\psi^2(x + \\frac{x-d}{2})^2.\n",
    "  $$\n",
    "\n",
    "For $|d|>2$, we conclude the above three constraints lead to the same minimal value of $\\zeta^2 +\\psi^2$ for any $x\\in\\mathbb{R}$. Therefore, the two constants of BGD assumption are invariant. However, the performance of FedAvg varies according to different $d$'s as shown in the following figure.\n",
    "\n",
    "![Figure 2](invariant.png)\n"
   ]
  }
 ],
 "metadata": {
  "kernelspec": {
   "display_name": "Python 3",
   "language": "python",
   "name": "python3"
  },
  "language_info": {
   "name": "python",
   "version": "3.9.4"
  },
  "orig_nbformat": 4,
  "vscode": {
   "interpreter": {
    "hash": "aee8b7b246df8f9039afb4144a1f6fd8d2ca17a180786b69acc140d282b71a49"
   }
  }
 },
 "nbformat": 4,
 "nbformat_minor": 2
}
