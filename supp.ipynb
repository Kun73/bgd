{
  "cells": [
    {
      "cell_type": "code",
      "execution_count": null,
      "metadata": {
        "id": "fYPyK1TD1q_W"
      },
      "outputs": [],
      "source": [
        "import numpy as np\n",
        "import matplotlib.pyplot as plt\n",
        "from matplotlib.font_manager import FontProperties\n",
        "import math\n",
        "from scipy import optimize"
      ]
    },
    {
      "cell_type": "markdown",
      "metadata": {
        "id": "H2rMeQ9j1q_X"
      },
      "source": [
        "Consider \n",
        "$$\n",
        "f_1(x) = f_2(x) = f(x) = \\begin{cases}\n",
        "\\frac{x^2}{2}, & |x|< 1, \\\\\n",
        "|x| - \\frac{1}{2}, & \\text{Otherwise}\n",
        "\\end{cases},\n",
        "$$\n",
        "and the stochastic gradient \n",
        "$$\n",
        "g_1(x) = g_2(x) = g(x) = \\begin{cases}\n",
        "\\nabla f(x) + \\sqrt{|x|}, &\\text{with probability 1/2}\\\\\n",
        "\\nabla f(x) - \\sqrt{|x|}, &\\text{with probability 1/2}\n",
        "\\end{cases}\n",
        "$$"
      ]
    },
    {
      "cell_type": "code",
      "execution_count": null,
      "metadata": {
        "id": "n_58d_0b1q_Y",
        "outputId": "40921f99-75b1-499e-9bf4-0e08087323d5"
      },
      "outputs": [
        {
          "ename": "",
          "evalue": "",
          "output_type": "error",
          "traceback": [
            "\u001b[1;31mRunning cells with 'c:\\Users\\huang\\AppData\\Local\\Programs\\Python\\Python39\\python.exe' requires the ipykernel package.\n",
            "\u001b[1;31mRun the following command to install 'ipykernel' into the Python environment. \n",
            "\u001b[1;31mCommand: 'c:/Users/huang/AppData/Local/Programs/Python/Python39/python.exe -m pip install ipykernel -U --user --force-reinstall'"
          ]
        }
      ],
      "source": [
        "print(np.random.rand())\n"
      ]
    },
    {
      "cell_type": "code",
      "execution_count": null,
      "metadata": {
        "id": "dcX58bRd1q_Z"
      },
      "outputs": [],
      "source": [
        "def f(x):\n",
        "    f_val = 0\n",
        "    nf = 0\n",
        "    if np.abs(x) < 1:\n",
        "        f_val = x**2 / 2\n",
        "        nf = x\n",
        "    else:\n",
        "        f_val = np.abs(x) - 1 / 2\n",
        "        nf = np.sign(x)\n",
        "    p = np.random.rand()\n",
        "    if p <= 0.5:\n",
        "        g = nf + np.sqrt(np.abs(x))\n",
        "    else:\n",
        "        g = nf - np.sqrt(np.abs(x))\n",
        "    return f_val, g\n",
        "\n",
        "def traj(x0, lr, Q, T, fopt):\n",
        "    errs = []\n",
        "    x = np.array([x0, x0])\n",
        "    for it in range(T):\n",
        "        for q in range(Q):\n",
        "            f1v, g1 = f(x[0])\n",
        "            f2v, g2 = f(x[1])\n",
        "            x = x - lr * np.array([g1, g2])\n",
        "        x_mean = np.mean(x)\n",
        "        x = np.array([x_mean, x_mean])\n",
        "        fv, _ = f(x_mean)\n",
        "        errs.append(fv - fopt)\n",
        "        # errs.append(np.linalg.norm(x_mean - fopt)**2)\n",
        "    return errs        "
      ]
    },
    {
      "cell_type": "code",
      "execution_count": null,
      "metadata": {
        "colab": {
          "base_uri": "https://localhost:8080/",
          "height": 299
        },
        "id": "h3rO6ZJl1q_Z",
        "outputId": "99d3516f-b30f-4562-9b4f-6d63fb381e60"
      },
      "outputs": [
        {
          "output_type": "stream",
          "name": "stderr",
          "text": [
            "UsageError: Line magic function `%` not found.\n"
          ]
        },
        {
          "output_type": "display_data",
          "data": {
            "text/plain": [
              "<Figure size 432x288 with 1 Axes>"
            ],
            "image/png": "[encoded data removed]"
          },
          "metadata": {
            "needs_background": "light"
          }
        }
      ],
      "source": [
        "### equal stepsize\n",
        "T = 2000\n",
        "Q = int(np.cbrt(T))\n",
        "lr = 2 / np.sqrt(T) / Q * 0.1\n",
        "x0 = 4\n",
        "trajs = []\n",
        "ntrail = 10\n",
        "fopt = 0\n",
        "temp = []\n",
        "for nt in range(ntrail):\n",
        "    temp.append(traj(x0, lr, Q, T, fopt))\n",
        "trajs.append(np.mean(temp, axis=0))\n",
        "\n",
        "mark_every = int(T * 0.1)\n",
        "font = FontProperties()\n",
        "font.set_size(18)\n",
        "font2 = FontProperties()\n",
        "font2.set_size(10)\n",
        "plt.figure()\n",
        "plt.plot(trajs[0], '-dy', markevery=mark_every)\n",
        "plt.grid(True)\n",
        "plt.yscale('log')\n",
        "plt.xlabel('# Iterations', fontsize=12)\n",
        "plt.ylabel(r'$f(x_t) - f^*$', fontsize=12)\n",
        "% plt.savefig('res/ex.pdf',format='pdf', dpi=4000, bbox_inches='tight')\n",
        "plt.show()"
      ]
    },
    {
      "cell_type": "code",
      "execution_count": null,
      "metadata": {
        "id": "aoVXTLxg1q_a",
        "outputId": "c76a9adc-4265-4cd3-8c9e-1a4134121aae"
      },
      "outputs": [
        {
          "ename": "",
          "evalue": "",
          "output_type": "error",
          "traceback": [
            "\u001b[1;31mRunning cells with 'c:\\Users\\huang\\AppData\\Local\\Programs\\Python\\Python39\\python.exe' requires the ipykernel package.\n",
            "\u001b[1;31mRun the following command to install 'ipykernel' into the Python environment. \n",
            "\u001b[1;31mCommand: 'c:/Users/huang/AppData/Local/Programs/Python/Python39/python.exe -m pip install ipykernel -U --user --force-reinstall'"
          ]
        }
      ],
      "source": []
    },
    {
      "cell_type": "markdown",
      "metadata": {
        "id": "JJAiAFWt1q_a"
      },
      "source": [
        "Consider \n",
        "$$\n",
        "f_1(x) = x^2, \\ f_2(x) = \\begin{cases}\n",
        "\\frac{(x-d)^2}{2}, & |x-d|< 1, \\\\\n",
        "|x-d| - \\frac{1}{2}, & \\text{Otherwise}\n",
        "\\end{cases},\n",
        "$$\n"
      ]
    },
    {
      "cell_type": "code",
      "execution_count": null,
      "metadata": {
        "id": "3uWHiGzK1q_a"
      },
      "outputs": [],
      "source": [
        "def f1(x, d):\n",
        "    f_val = 0\n",
        "    nf = 0\n",
        "    if np.abs(x - d) < 1:\n",
        "        f_val = (x-d)**2 / 2\n",
        "        nf = x - d\n",
        "    else:\n",
        "        f_val = np.abs(x - d) - 1 / 2\n",
        "        nf = np.sign(x - d)\n",
        "    p = np.random.rand()\n",
        "    return f_val, nf\n",
        "\n",
        "def f2(x):\n",
        "    return x**2, 2 * x\n",
        "\n",
        "def f(x, d):\n",
        "    f1v, gradf1 = f1(x, d)\n",
        "    f2v, gradf2 = f2(x)\n",
        "    return 0.5 * (f1v + f2v), 0.5 * (gradf1 + gradf2) \n",
        "\n",
        "def traj(x0, d, lr, sigma, Q, T, fopt):\n",
        "    errs = []\n",
        "    x = np.array([x0, x0])\n",
        "    for it in range(T):\n",
        "        for q in range(Q):\n",
        "            f1v, gradf1 = f1(x[0], d)\n",
        "            f2v, gradf2 = f2(x[1])\n",
        "            g1 = gradf1 + np.random.normal(0, np.sqrt(sigma**2 + f1v))\n",
        "            # g1 = gradf1 + np.random.normal(0, sigma)\n",
        "            g2 = gradf2 + np.random.normal(0, np.sqrt(sigma**2 + f2v))\n",
        "            x = x - lr * np.array([g1, g2])\n",
        "        x_mean = np.mean(x)\n",
        "        x = np.array([x_mean, x_mean])\n",
        "        fv, _ = f(x_mean, d)\n",
        "        errs.append(fv - fopt)\n",
        "        # errs.append(np.linalg.norm(x_mean - fopt)**2)\n",
        "    return errs        "
      ]
    },
    {
      "cell_type": "code",
      "execution_count": null,
      "metadata": {
        "colab": {
          "base_uri": "https://localhost:8080/",
          "height": 299
        },
        "id": "qSG5PyL81q_a",
        "outputId": "afaedb56-89fb-4a1b-9df3-0e905cc78376"
      },
      "outputs": [
        {
          "output_type": "stream",
          "name": "stderr",
          "text": [
            "UsageError: Line magic function `%` not found.\n"
          ]
        },
        {
          "output_type": "display_data",
          "data": {
            "text/plain": [
              "<Figure size 432x288 with 1 Axes>"
            ],
            "image/png": "[encoded data removed]"
          },
          "metadata": {
            "needs_background": "light"
          }
        }
      ],
      "source": [
        "### equal stepsize\n",
        "T = 2000\n",
        "Q = int(np.cbrt(T))\n",
        "lr = 2 / np.sqrt(T) / Q * 0.1\n",
        "ds = [-100, -50, -20, -10]\n",
        "nd = len(ds)\n",
        "sigma = 1\n",
        "x0 = 100\n",
        "trajs = []\n",
        "ntrail = 1\n",
        "for i in range(nd):\n",
        "    def f_topt(x):\n",
        "        fv, _ = f(x, ds[i])\n",
        "        return fv\n",
        "    fopt = optimize.fminbound(f_topt, -200, ds[i])\n",
        "    # fopt = 0\n",
        "    temp = []\n",
        "    for nt in range(ntrail):\n",
        "        temp.append(traj(x0, ds[i], lr, sigma, Q, T, fopt))\n",
        "    trajs.append(np.mean(temp, axis=0))\n",
        "\n",
        "mark_every = int(T * 0.1)\n",
        "font = FontProperties()\n",
        "font.set_size(18)\n",
        "font2 = FontProperties()\n",
        "font2.set_size(10)\n",
        "plt.figure()\n",
        "plt.plot(trajs[0], '-dy', markevery=mark_every)\n",
        "plt.plot(trajs[1], '-^m', markevery=mark_every)\n",
        "plt.plot(trajs[2], '-vb', markevery=mark_every)\n",
        "plt.plot(trajs[3], '-<g', markevery=mark_every)\n",
        "plt.grid(True)\n",
        "plt.yscale('log')\n",
        "plt.xlabel('# Iterations', fontsize=12)\n",
        "plt.ylabel(r'$f(x_t) - f^*$', fontsize=12)\n",
        "plt.legend(('d=' + str(ds[0]), 'd=' + str(ds[1]), 'd=' + str(ds[2]), 'd=' + str(ds[3])))\n",
        "# plt.savefig('res/bgd_invariant.pdf',format='pdf', dpi=4000, bbox_inches='tight')\n",
        "plt.show()"
      ]
    },
    {
      "cell_type": "markdown",
      "source": [
        "Consider \n",
        "$$\n",
        "f_1(x) = (x-1)^2, f_2(x) = 2(x-3)^2\n",
        "$$"
      ],
      "metadata": {
        "id": "QRfuA7GE3YXG"
      }
    },
    {
      "cell_type": "code",
      "source": [
        "def f_1(x, d):\n",
        "  return (x - d)**2, 2 * (x - d)\n",
        "\n",
        "def f_2(x, d):\n",
        "  return 2 * (x - d - 3)**2, 4 * (x - d - 3)\n",
        "\n",
        "def f(x, d):\n",
        "  f1, g1 = f_1(x, d)\n",
        "  f2, g2 = f_2(x, d)\n",
        "  return 0.5 * (f1 + f2), 0.5 * (g1 + g2)\n",
        "\n",
        "def traj_d(x0, d, lr, sigma, Q, T, fopt):\n",
        "    errs = []\n",
        "    x = np.array([x0, x0])\n",
        "    for it in range(T):\n",
        "        for q in range(Q):\n",
        "            f1v, gradf1 = f_1(x[0], d)\n",
        "            f2v, gradf2 = f_2(x[1], d)\n",
        "            g1 = gradf1 + np.random.normal(0, np.sqrt(sigma**2 + f1v))\n",
        "            # g1 = gradf1 + np.random.normal(0, sigma)\n",
        "            g2 = gradf2 + np.random.normal(0, np.sqrt(sigma**2 + f2v))\n",
        "            x = x - lr * np.array([g1, g2])\n",
        "        x_mean = np.mean(x)\n",
        "        x = np.array([x_mean, x_mean])\n",
        "        fv, _ = f(x_mean, d)\n",
        "        errs.append(fv - fopt)\n",
        "        # errs.append(np.linalg.norm(x_mean - fopt)**2)\n",
        "    return errs   \n",
        "\n",
        "     "
      ],
      "metadata": {
        "id": "6tmV4I7N3ZpJ"
      },
      "execution_count": null,
      "outputs": []
    },
    {
      "cell_type": "code",
      "source": [
        "### equal stepsize\n",
        "T = 2000\n",
        "Q = int(np.cbrt(T))\n",
        "lr = 2 / np.sqrt(T) / Q * 0.1\n",
        "ds = [0, 10, 20, 30]\n",
        "nd = len(ds)\n",
        "sigma = 0.1\n",
        "x0 = 40\n",
        "trajs = []\n",
        "ntrail = 1\n",
        "for i in range(nd):\n",
        "    def f_topt(x):\n",
        "        fv, _ = f(x, ds[i])\n",
        "        return fv\n",
        "    fopt = optimize.fminbound(f_topt, -ds[i], ds[i])\n",
        "    # fopt = 0\n",
        "    temp = []\n",
        "    for nt in range(ntrail):\n",
        "        temp.append(traj_d(x0, ds[i], lr, sigma, Q, T, fopt))\n",
        "    trajs.append(np.mean(temp, axis=0))\n",
        "\n",
        "mark_every = int(T * 0.1)\n",
        "font = FontProperties()\n",
        "font.set_size(18)\n",
        "font2 = FontProperties()\n",
        "font2.set_size(10)\n",
        "plt.figure()\n",
        "plt.plot(trajs[0], '-dy', markevery=mark_every)\n",
        "plt.plot(trajs[1], '-^m', markevery=mark_every)\n",
        "plt.plot(trajs[2], '-vb', markevery=mark_every)\n",
        "plt.plot(trajs[3], '-<g', markevery=mark_every)\n",
        "plt.grid(True)\n",
        "plt.yscale('log')\n",
        "plt.xlabel('# Iterations', fontsize=12)\n",
        "plt.ylabel(r'$f(x_t) - f^*$', fontsize=12)\n",
        "plt.legend(('d=' + str(ds[0]), 'd=' + str(ds[1]), 'd=' + str(ds[2]), 'd=' + str(ds[3])))\n",
        "# plt.savefig('res/bgd_invariant.pdf',format='pdf', dpi=4000, bbox_inches='tight')\n",
        "plt.show()"
      ],
      "metadata": {
        "colab": {
          "base_uri": "https://localhost:8080/",
          "height": 282
        },
        "id": "LqMjnu4M52-g",
        "outputId": "f9c6fb34-13ef-4aab-9dfd-0ccb5b4ff5b6"
      },
      "execution_count": null,
      "outputs": [
        {
          "output_type": "display_data",
          "data": {
            "text/plain": [
              "<Figure size 432x288 with 1 Axes>"
            ],
            "image/png": "[encoded data removed]"
          },
          "metadata": {
            "needs_background": "light"
          }
        }
      ]
    }
  ],
  "metadata": {
    "kernelspec": {
      "display_name": "Python 3",
      "language": "python",
      "name": "python3"
    },
    "language_info": {
      "codemirror_mode": {
        "name": "ipython",
        "version": 3
      },
      "file_extension": ".py",
      "mimetype": "text/x-python",
      "name": "python",
      "nbconvert_exporter": "python",
      "pygments_lexer": "ipython3",
      "version": "3.9.13"
    },
    "orig_nbformat": 4,
    "vscode": {
      "interpreter": {
        "hash": "aee8b7b246df8f9039afb4144a1f6fd8d2ca17a180786b69acc140d282b71a49"
      }
    },
    "colab": {
      "provenance": []
    }
  },
  "nbformat": 4,
  "nbformat_minor": 0
}